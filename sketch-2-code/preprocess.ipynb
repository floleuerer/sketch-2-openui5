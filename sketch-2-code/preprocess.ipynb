{
 "cells": [
  {
   "cell_type": "code",
   "execution_count": 21,
   "metadata": {},
   "outputs": [],
   "source": [
    "import os\n",
    "import joblib\n",
    "import numpy as np\n",
    "from keras.preprocessing.image import img_to_array, load_img"
   ]
  },
  {
   "cell_type": "code",
   "execution_count": 17,
   "metadata": {},
   "outputs": [
    {
     "name": "stdout",
     "output_type": "stream",
     "text": [
      "filtered .DS_Store\n",
      "filtered .DS_Store\n"
     ]
    }
   ],
   "source": [
    "grayscale = True\n",
    "\n",
    "img_dim = 256\n",
    "\n",
    "img_dir = '../ressources/_img_test/'\n",
    "page_dir = '../ressources/_xml_test/'\n",
    "\n",
    "img_ext = 'png'\n",
    "page_ext = 'xml'\n",
    "\n",
    "def load_doc(filename):\n",
    "    file = open(filename, 'r')\n",
    "    text = file.read()\n",
    "    file.close()\n",
    "    return text\n",
    "\n",
    "def filter_filelist(filelist, ext):\n",
    "    filelist.sort()\n",
    "    filtered = []\n",
    "    for file in filelist:\n",
    "        if file.split('.')[1] == ext:\n",
    "            filtered.append(file)\n",
    "        else:\n",
    "            print('filtered ' + file)\n",
    "    return filtered\n",
    "\n",
    "img_list = os.listdir(img_dir)\n",
    "img_list = filter_filelist(img_list, img_ext)\n",
    "\n",
    "page_list = os.listdir(page_dir)\n",
    "page_list = filter_filelist(page_list, page_ext)"
   ]
  },
  {
   "cell_type": "markdown",
   "metadata": {},
   "source": [
    "Check consistency of img and page list (does the img-id correspond to the page-id)."
   ]
  },
  {
   "cell_type": "code",
   "execution_count": 18,
   "metadata": {},
   "outputs": [],
   "source": [
    "for i, page in enumerate(page_list):\n",
    "    if page.split('.')[0] != img_list[i].split('.')[0]:\n",
    "        print(img_list[i] + ' missing! - ' + page)\n",
    "        break"
   ]
  },
  {
   "cell_type": "code",
   "execution_count": 22,
   "metadata": {},
   "outputs": [
    {
     "name": "stdout",
     "output_type": "stream",
     "text": [
      "(20, 256, 256, 1)\n"
     ]
    }
   ],
   "source": [
    "images = []\n",
    "for img in img_list:\n",
    "    images.append(img_to_array(load_img(img_dir+img, target_size=(img_dim, img_dim), grayscale=grayscale)))\n",
    "images = np.array(images, dtype=float)\n",
    "images /= 255\n",
    "\n",
    "joblib.dump(images, img_dir + 'img.dmp')\n",
    "    \n",
    "print(images.shape)"
   ]
  },
  {
   "cell_type": "code",
   "execution_count": 24,
   "metadata": {},
   "outputs": [
    {
     "name": "stdout",
     "output_type": "stream",
     "text": [
      "<!--START-->\n",
      "<mvc:View displayBlock=\"true\" xmlns=\"sap.m\" xmlns:mvc=\"sap.ui.core.mvc\">\n",
      "<VBox class=\"sapUiSmallMargin\">\n",
      "<Button text=\"Accept\" type=\"Accept\" />\n",
      "<Switch state=\"true\" />\n",
      "<Switch state=\"true\" />\n",
      "<CheckBox text=\"Option a\" selected=\"true\" />\n",
      "<RadioButton groupName=\"GroupA\" text=\"Option 2\" />\n",
      "<Input width=\"250px\" class=\"sapUiSmallMarginBottom\" />\n",
      "<CheckBox text=\"Option b\" />\n",
      "<Input width=\"250px\" class=\"sapUiSmallMarginBottom\" />\n",
      "</VBox>\n",
      "</mvc:View>\n",
      "<!--END-->\n",
      "\n"
     ]
    },
    {
     "data": {
      "text/plain": [
       "['../ressources/_xml_test/page.dmp']"
      ]
     },
     "execution_count": 24,
     "metadata": {},
     "output_type": "execute_result"
    }
   ],
   "source": [
    "pages = []\n",
    "for page in page_list:\n",
    "    pages.append(load_doc(page_dir+page))\n",
    "                 \n",
    "joblib.dump(pages, page_dir + 'page.dmp')"
   ]
  },
  {
   "cell_type": "code",
   "execution_count": null,
   "metadata": {},
   "outputs": [],
   "source": []
  }
 ],
 "metadata": {
  "kernelspec": {
   "display_name": "Python 3.6 - AzureML",
   "language": "python",
   "name": "python3-azureml"
  },
  "language_info": {
   "codemirror_mode": {
    "name": "ipython",
    "version": 3
   },
   "file_extension": ".py",
   "mimetype": "text/x-python",
   "name": "python",
   "nbconvert_exporter": "python",
   "pygments_lexer": "ipython3",
   "version": "3.6.7"
  }
 },
 "nbformat": 4,
 "nbformat_minor": 2
}
